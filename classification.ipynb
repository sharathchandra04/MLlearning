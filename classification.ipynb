{
  "nbformat": 4,
  "nbformat_minor": 0,
  "metadata": {
    "colab": {
      "provenance": [],
      "authorship_tag": "ABX9TyPu3ehGiz5lt22gS7fcUY0H",
      "include_colab_link": true
    },
    "kernelspec": {
      "name": "python3",
      "display_name": "Python 3"
    },
    "language_info": {
      "name": "python"
    }
  },
  "cells": [
    {
      "cell_type": "markdown",
      "metadata": {
        "id": "view-in-github",
        "colab_type": "text"
      },
      "source": [
        "<a href=\"https://colab.research.google.com/github/sharathchandra04/MLlearning/blob/main/classification.ipynb\" target=\"_parent\"><img src=\"https://colab.research.google.com/assets/colab-badge.svg\" alt=\"Open In Colab\"/></a>"
      ]
    },
    {
      "cell_type": "markdown",
      "source": [
        "Tasks\n",
        "--------------------------\n",
        "1. mnist number classification using multiclass LDA.\n",
        "2. perceptron\n",
        "3. svm kernels\n",
        "4. gda\n",
        "5. gvm\n",
        "6. nbc"
      ],
      "metadata": {
        "id": "B2lbWGbgRChS"
      }
    },
    {
      "cell_type": "markdown",
      "source": [
        "perceptron classification example\n"
      ],
      "metadata": {
        "id": "iFNzx6qOViWh"
      }
    },
    {
      "cell_type": "code",
      "execution_count": null,
      "metadata": {
        "id": "Ow35noci5uMz"
      },
      "outputs": [],
      "source": [
        "import numpy as np\n",
        "\n",
        "# Build the Perceptron Model\n",
        "class Perceptron:\n",
        "\n",
        "    def __init__(self, num_inputs, learning_rate=0.01):\n",
        "        print(type(num_inputs))\n",
        "        # Initialize the weight and learning rate\n",
        "        self.weights = np.random.rand(num_inputs + 1)\n",
        "        self.learning_rate = learning_rate\n",
        "\n",
        "    # Define the first linear layer\n",
        "    def linear(self, inputs):\n",
        "        Z = inputs @ self.weights[1:].T + + self.weights[0]\n",
        "        return Z\n",
        "\n",
        "    # Define the Heaviside Step function.\n",
        "    def Heaviside_step_fn(self, z):\n",
        "        if z >= 0:\n",
        "            return 1\n",
        "        else:\n",
        "            return 0\n",
        "\n",
        "    # Define the Prediction\n",
        "    def predict(self, inputs):\n",
        "        Z = self.linear(inputs)\n",
        "        try:\n",
        "            pred = []\n",
        "            for z in Z:\n",
        "                pred.append(self.Heaviside_step_fn(z))\n",
        "        except:\n",
        "            return self.Heaviside_step_fn(Z)\n",
        "        return pred\n",
        "\n",
        "    # Define the Loss function\n",
        "    def loss(self, prediction, target):\n",
        "        loss = (prediction-target)\n",
        "        return loss\n",
        "\n",
        "    #Define training\n",
        "    def train(self, inputs, target):\n",
        "        prediction = self.predict(inputs)\n",
        "        # print('prediction -> ', prediction)\n",
        "        error = self.loss(prediction, target)\n",
        "        # ******************  imp  ****************\n",
        "        # this is basically (inputs*error)/100 if learning rate is 0.01\n",
        "        # this is basically (inputs*error)/1000 if learning rate is 0.001\n",
        "        # to completely use the potential of the learning-rate which is 0.001 run the train algorithm 1000 times\n",
        "        # ******************  imp  ****************\n",
        "        self.weights[1:] += self.learning_rate * error * inputs\n",
        "        self.weights[0]  += self.learning_rate * error\n",
        "\n",
        "    # Fit the model\n",
        "    def fit(self, X, y, num_epochs):\n",
        "        for epoch in range(num_epochs):\n",
        "            for inputs, target in zip(X, y):\n",
        "                self.train(inputs, target)\n",
        "\n",
        "import numpy as np\n",
        "from sklearn.datasets import make_blobs\n",
        "import matplotlib.pyplot as plt\n",
        "from sklearn.model_selection import train_test_split\n",
        "from sklearn.preprocessing import StandardScaler\n",
        "\n",
        "# Generate a linearly separable dataset with two classes\n",
        "X, y = make_blobs(n_samples=1000,\n",
        "                  n_features=2,\n",
        "                  centers=2,\n",
        "                  cluster_std=3,\n",
        "                  random_state=23)\n",
        "\n",
        "# Split the dataset into training and testing sets\n",
        "X_train, X_test, y_train, y_test = train_test_split(X,\n",
        "                                                    y,\n",
        "                                                    test_size=0.2,\n",
        "                                                    random_state=23,\n",
        "                                                    shuffle=True\n",
        "                                                   )\n",
        "\n",
        "# Scale the input features to have zero mean and unit variance\n",
        "scaler = StandardScaler()\n",
        "X_train = scaler.fit_transform(X_train)\n",
        "X_test = scaler.transform(X_test)\n",
        "\n",
        "# Set the random seed legacy\n",
        "np.random.seed(23)\n",
        "\n",
        "# Initialize the Perceptron with the appropriate number of inputs\n",
        "print(X_train)\n",
        "print('X_train.shape[1] --> ', X_train.shape[1])\n",
        "perceptron = Perceptron(num_inputs=X_train.shape[1])\n",
        "\n",
        "# Train the Perceptron on the training data\n",
        "perceptron.fit(X_train, y_train, num_epochs=100)\n",
        "\n",
        "# Prediction\n",
        "pred = perceptron.predict(X_test)\n",
        "\n",
        "# Test the accuracy of the trained Perceptron on the testing data\n",
        "accuracy = np.mean(pred != y_test)\n",
        "print(\"Accuracy:\", accuracy)\n",
        "\n",
        "# Plot the dataset\n",
        "plt.scatter(X_test[:, 0], X_test[:, 1], c=pred)\n",
        "plt.xlabel('Feature 1')\n",
        "plt.ylabel('Feature 2')\n",
        "plt.show()\n"
      ]
    },
    {
      "cell_type": "markdown",
      "source": [
        "same using pyTorch\n"
      ],
      "metadata": {
        "id": "LaQGbDsUhw-a"
      }
    },
    {
      "cell_type": "code",
      "source": [
        "#@title uuing pytorch\n",
        "import torch\n",
        "import torch.nn as nn\n",
        "from sklearn.datasets import make_blobs\n",
        "import matplotlib.pyplot as plt\n",
        "from sklearn.model_selection import train_test_split\n",
        "from sklearn.preprocessing import StandardScaler\n",
        "\n",
        "# Generate a linearly separable dataset with two classes\n",
        "X, y = make_blobs(n_samples=1000,\n",
        "                  n_features=2,\n",
        "                  centers=2,\n",
        "                  cluster_std=3,\n",
        "                  random_state=23)\n",
        "\n",
        "# Split the dataset into training and testing sets\n",
        "X_train, X_test, y_train, y_test = train_test_split(X,\n",
        "                                                    y,\n",
        "                                                    test_size=0.2,\n",
        "                                                    random_state=23,\n",
        "                                                    shuffle=True\n",
        "                                                   )\n",
        "\n",
        "# Scale the input features to have zero mean and unit variance\n",
        "scaler = StandardScaler()\n",
        "X_train = scaler.fit_transform(X_train)\n",
        "X_test = scaler.transform(X_test)\n",
        "\n",
        "# Convert the data to PyTorch tensors\n",
        "X_train = torch.tensor(X_train, dtype=torch.float32, requires_grad=False)\n",
        "X_test = torch.tensor(X_test, dtype=torch.float32, requires_grad=False)\n",
        "y_train = torch.tensor(y_train, dtype=torch.float32, requires_grad=False)\n",
        "y_test = torch.tensor(y_test, dtype=torch.float32, requires_grad=False)\n",
        "\n",
        "# reshape the target tensor to match the predicted output tensor\n",
        "y_train = y_train.reshape(-1, 1)\n",
        "y_test = y_test.reshape(-1, 1)\n",
        "\n",
        "torch.random.seed()\n",
        "\n",
        "# Define the Perceptron model\n",
        "class Perceptron(nn.Module):\n",
        "    def __init__(self, num_inputs):\n",
        "        super(Perceptron, self).__init__()\n",
        "        self.linear = nn.Linear(num_inputs, 1)\n",
        "\n",
        "    # Heaviside Step function\n",
        "    def heaviside_step_fn(self,Z):\n",
        "        Class = []\n",
        "        for z in Z:\n",
        "            if z >= 0:\n",
        "                Class.append(1)\n",
        "            else:\n",
        "                Class.append(0)\n",
        "        return torch.tensor(Class)\n",
        "\n",
        "    def forward(self, x):\n",
        "        Z = self.linear(x)\n",
        "        return self.heaviside_step_fn(Z)\n",
        "\n",
        "\n",
        "# Initialize the Perceptron with the appropriate number of inputs\n",
        "perceptron = Perceptron(num_inputs=X_train.shape[1])\n",
        "\n",
        "# loss function\n",
        "def loss(y_pred,Y):\n",
        "    cost = y_pred-Y\n",
        "    return cost\n",
        "\n",
        "\n",
        "# Learning Rate\n",
        "learning_rate = 0.001\n",
        "\n",
        "# Train the Perceptron on the training data\n",
        "num_epochs = 10\n",
        "for epoch in range(num_epochs):\n",
        "    Losses = 0\n",
        "    for Input, Class in zip(X_train, y_train):\n",
        "        # Forward pass\n",
        "        predicted_class = perceptron(Input)\n",
        "        error = loss(predicted_class, Class)\n",
        "        Losses += error\n",
        "        # Perceptron Learning Rule\n",
        "\n",
        "        # Model Parameter\n",
        "        w = perceptron.linear.weight\n",
        "        b = perceptron.linear.bias\n",
        "\n",
        "        # Matually Update the model parameter\n",
        "        w = w - learning_rate * error * Input\n",
        "        b = b - learning_rate * error\n",
        "\n",
        "        # assign the weight & bias parameter to the linear layer\n",
        "        perceptron.linear.weight = nn.Parameter(w)\n",
        "        perceptron.linear.bias   = nn.Parameter(b)\n",
        "    print('Epoch [{}/{}], weight:{}, bias:{} Loss: {:.4f}'.format(\n",
        "        epoch+1,num_epochs,\n",
        "        w.detach().numpy(),\n",
        "        b.detach().numpy(),\n",
        "        Losses.item()))\n",
        "\n",
        "# Test the accuracy of the trained Perceptron on the testing data\n",
        "pred = perceptron(X_test)\n",
        "\n",
        "accuracy = (pred==y_test[:,0]).float().mean()\n",
        "print(\"Accuracy on Test Dataset:\", accuracy.item())\n",
        "\n",
        "# Plot the dataset\n",
        "plt.scatter(X_test[:, 0], X_test[:, 1], c=pred)\n",
        "plt.xlabel('Feature 1')\n",
        "plt.ylabel('Feature 2')\n",
        "plt.show()\n",
        "\n"
      ],
      "metadata": {
        "id": "xvZupS1x9eiG",
        "cellView": "form"
      },
      "execution_count": null,
      "outputs": []
    },
    {
      "cell_type": "code",
      "source": [
        "#@title exp\n",
        "import numpy as np\n",
        "from numpy import random\n",
        "import matplotlib.pyplot as plt\n",
        "import seaborn as sns\n",
        "\n",
        "# sns.distplot(random.normal(size=1000), hist=False)\n",
        "\n",
        "# plt.show()\n",
        "\n",
        "class1_data = random.randn(100, 2)\n",
        "# print(class1_data)\n",
        "# np.random.randn(num_points, 2) * variance\n",
        "# print(np.array([1,2,3])*3)\n",
        "\n",
        "a= np.array([1,2,3])\n",
        "b = np.array([[1,2], [4,5], [7,8]])\n",
        "print(a)\n",
        "print(b)\n",
        "# print(a[:])\n",
        "print(b[:, 1])\n",
        "print(b[:, 0])\n",
        "# print(b[-2:-1, 2])\n",
        "\n",
        "print(np.shape(b[1]), np.shape(b[0]))"
      ],
      "metadata": {
        "cellView": "form",
        "id": "af7o4BJ1i03p"
      },
      "execution_count": null,
      "outputs": []
    },
    {
      "cell_type": "code",
      "source": [
        "import numpy as np\n",
        "\n",
        "\n",
        "# Set the random seed for reproducibility\n",
        "np.random.seed(0)\n",
        "\n",
        "# Number of data points per class\n",
        "num_points = 100\n",
        "\n",
        "# Mean and small variance for the Gaussian distribution\n",
        "mean_class1 = np.array([0.5, 0.5])\n",
        "mean_class2 = np.array([-0.5, -0.5])\n",
        "variance = 0.1\n",
        "\n",
        "\n",
        "# gaussian distribution with variance = 1 and std = 1 with center at [0,0]\n",
        "gaussian_class1 = np.random.randn(num_points, 2)\n",
        "gaussian_class2 = np.random.randn(num_points, 2)\n",
        "\n",
        "# scaling to the variance scale\n",
        "scaled_gaussian_class1 = gaussian_class1 * variance\n",
        "scaled_gaussian_class2 = gaussian_class2 * variance\n",
        "\n",
        "# shifting the means\n",
        "class1_data = scaled_gaussian_class1 + mean_class1\n",
        "class2_data = scaled_gaussian_class2 + mean_class2\n",
        "\n",
        "# Visualize the data (optional)\n",
        "import matplotlib.pyplot as plt\n",
        "\n",
        "plt.scatter(class1_data[:, 0], class1_data[:, 1], s=8, label='Class 1')\n",
        "plt.scatter(class2_data[:, 0], class2_data[:, 1], s=8, label='Class 2')\n",
        "plt.xlabel('Dimension 1')\n",
        "plt.ylabel('Dimension 2')\n",
        "plt.legend()\n",
        "plt.show()\n"
      ],
      "metadata": {
        "id": "Su4qm2Uomq8H",
        "outputId": "f01ed31d-4e9f-4eb8-ee38-831bc29b45af",
        "colab": {
          "base_uri": "https://localhost:8080/",
          "height": 449
        }
      },
      "execution_count": 66,
      "outputs": [
        {
          "output_type": "display_data",
          "data": {
            "text/plain": [
              "<Figure size 640x480 with 1 Axes>"
            ],
            "image/png": "[encoded data removed]"
          },
          "metadata": {}
        }
      ]
    },
    {
      "cell_type": "code",
      "source": [
        "def perceptron_train(X, y, weights,  max_epochs=100, learning_rate=1):\n",
        "    w = weights\n",
        "    b = 0\n",
        "\n",
        "    for epoch in range(max_epochs):\n",
        "        errors = 0\n",
        "        for i in range(X.shape[0]):\n",
        "            # Perceptron update rule\n",
        "            prediction = np.dot(w, X[i]) + b\n",
        "            Z = None\n",
        "            if prediction >=0:\n",
        "              Z = 1\n",
        "            else:\n",
        "              Z = -1\n",
        "            loss = Z - y[i]\n",
        "            if y[i] * prediction <= 0:\n",
        "                w += learning_rate * y[i] * X[i]\n",
        "                b += learning_rate * y[i]\n",
        "                errors += 1\n",
        "\n",
        "        # If there were no errors, early stopping\n",
        "        if errors == 0:\n",
        "            print(f'Converged in {epoch+1} epochs.')\n",
        "            break\n",
        "    return w, b\n",
        "\n",
        "\n",
        "X = np.concatenate((class1_data, class2_data))\n",
        "y = np.concatenate((np.ones(num_points), -np.ones(num_points)))\n",
        "\n",
        "# print(X)\n",
        "# print(y)\n",
        "\n",
        "weights = np.zeros(X.shape[1])\n",
        "\n",
        "# Run the perceptron algorithm\n",
        "weights, bias = perceptron_train(X, y, weights)\n",
        "print(weights, bias)\n"
      ],
      "metadata": {
        "id": "GEMW3KkkqDOT",
        "outputId": "604874a0-aef5-41ac-aee8-55fffb8b281a",
        "colab": {
          "base_uri": "https://localhost:8080/"
        }
      },
      "execution_count": 67,
      "outputs": [
        {
          "output_type": "stream",
          "name": "stdout",
          "text": [
            "Converged in 2 epochs.\n",
            "[1.21332342 1.06395364] 0.0\n"
          ]
        }
      ]
    },
    {
      "cell_type": "code",
      "source": [
        "new_variance = 0.5\n",
        "scaled_gaussian_class1_set2 = gaussian_class1 * new_variance\n",
        "scaled_gaussian_class2_set2 = gaussian_class2 * new_variance\n",
        "\n",
        "# shifting the means\n",
        "class1_data_set2 = scaled_gaussian_class1_set2 + mean_class1\n",
        "class2_data_set2 = scaled_gaussian_class2_set2 + mean_class2\n",
        "\n",
        "plt.scatter(class1_data_set2[:, 0], class1_data_set2[:, 1], s=8, label='Class 1')\n",
        "plt.scatter(class2_data_set2[:, 0], class2_data_set2[:, 1], s=8, label='Class 2')\n",
        "plt.xlabel('Dimension 1')\n",
        "plt.ylabel('Dimension 2')\n",
        "plt.legend()\n",
        "plt.show()\n",
        "\n",
        "X_n = np.concatenate((class1_data_set2, class2_data_set2))\n",
        "y_n = np.concatenate((np.ones(num_points), -np.ones(num_points)))\n",
        "\n",
        "weights = np.zeros(X_n.shape[1])\n",
        "\n",
        "# Run the perceptron algorithm\n",
        "weights, bias = perceptron_train(X_n, y_n, weights)\n",
        "print(weights, bias)\n",
        "print(\"there is an error remaining in the weights didn't converge, there was an error in every epoch\")\n"
      ],
      "metadata": {
        "id": "emTsckL6CsFL",
        "outputId": "eeef1268-ed4e-4a94-8828-c8464cd6bcb0",
        "colab": {
          "base_uri": "https://localhost:8080/",
          "height": 484
        }
      },
      "execution_count": 68,
      "outputs": [
        {
          "output_type": "display_data",
          "data": {
            "text/plain": [
              "<Figure size 640x480 with 1 Axes>"
            ],
            "image/png": "[encoded data removed]"
          },
          "metadata": {}
        },
        {
          "output_type": "stream",
          "name": "stdout",
          "text": [
            "[1.30791689 2.02968913] -1.0\n",
            "there is an error remaining in the weights didn't converge, there was an error in every epoch\n"
          ]
        }
      ]
    }
  ]
}